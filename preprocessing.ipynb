{
 "cells": [
  {
   "cell_type": "markdown",
   "metadata": {},
   "source": [
    "# preprocessing of original data"
   ]
  },
  {
   "cell_type": "code",
   "execution_count": 52,
   "metadata": {},
   "outputs": [],
   "source": [
    "import os\n",
    "import re\n",
    "import librosa\n",
    "import numpy as np\n",
    "import pandas as pd\n",
    "import matplotlib.pyplot as plt\n",
    "\n",
    "import soundfile as sf  \n",
    "import audioread\n",
    "from pydub import AudioSegment"
   ]
  },
  {
   "cell_type": "code",
   "execution_count": null,
   "metadata": {},
   "outputs": [],
   "source": [
    "def read_files(filedir, format='wav'):\n",
    "    files = []\n",
    "    for filname in os.listdir(filedir):\n",
    "        if filname.endswith(format):\n",
    "            files.append(filname)\n",
    "            \n",
    "    files.sort()\n",
    "    print(f'no of {format} files: {len(files)}')\n",
    "    return files"
   ]
  },
  {
   "cell_type": "markdown",
   "metadata": {},
   "source": [
    "preprocessing\n",
    "\n"
   ]
  },
  {
   "cell_type": "code",
   "execution_count": 43,
   "metadata": {},
   "outputs": [],
   "source": [
    "def excract_the_file_name(files):\n",
    "    raagas = {}\n",
    "    for filename in files:\n",
    "        category  = (re.findall(r\"^[a-zA-Z]+\", filename))[0].lower()\n",
    "        if category not in raagas.keys():\n",
    "            raagas[category] = []\n",
    "        raagas[category].append(filename)\n",
    "\n",
    "    return raagas"
   ]
  },
  {
   "cell_type": "code",
   "execution_count": 46,
   "metadata": {},
   "outputs": [
    {
     "name": "stdout",
     "output_type": "stream",
     "text": [
      "no of files: 82\n",
      "done\n",
      "no of files: 82\n",
      "{'bhairavi': ['Bhairavi01.wav', 'Bhairavi02.wav', 'Bhairavi03.wav', 'Bhairavi04.wav', 'Bhairavi05.wav', 'bhairavi27.wav', 'bhairavi28.wav', 'bhairavi29.wav', 'bhairavi30.wav', 'bhairavi31.wav'], 'dkanada': ['DKanada01.wav', 'DKanada02.wav', 'DKanada03.wav', 'DKanada04.wav', 'DKanada05.wav'], 'asavari': ['asavari01.wav', 'asavari02.wav', 'asavari03.wav', 'asavari04.wav', 'asavari05.wav', 'asavari25.wav', 'asavari26.wav', 'asavari27.wav', 'asavari28.wav', 'asavari29.wav'], 'bageshree': ['bageshree01.wav', 'bageshree02.wav', 'bageshree03.wav', 'bageshree04.wav', 'bageshree05.wav', 'bageshree24.wav', 'bageshree25.wav', 'bageshree27.wav', 'bageshree28.wav', 'bageshree29.wav', 'bageshree30.wav', 'bageshree31.wav'], 'bhoop': ['bhoop01.wav', 'bhoop02.wav', 'bhoop03.wav', 'bhoop04.wav', 'bhoop05.wav'], 'bhoopali': ['bhoopali21.wav', 'bhoopali22.wav', 'bhoopali23.wav', 'bhoopali24.wav', 'bhoopali25.wav'], 'darbari': ['darbari26.wav', 'darbari27.wav', 'darbari28.wav', 'darbari29.wav', 'darbari30.wav'], 'malkauns': ['malkauns01.wav', 'malkauns02.wav', 'malkauns03.wav', 'malkauns04.wav', 'malkauns05.wav', 'malkauns25.wav', 'malkauns26.wav', 'malkauns27.wav', 'malkauns28.wav', 'malkauns29.wav'], 'sarang': ['sarang01.wav', 'sarang02.wav', 'sarang03.wav', 'sarang04.wav', 'sarang05.wav', 'sarang16.wav', 'sarang17.wav', 'sarang18.wav', 'sarang19.wav', 'sarang20.wav'], 'yaman': ['yaman01.wav', 'yaman02.wav', 'yaman03.wav', 'yaman04.wav', 'yaman05.wav', 'yaman23.wav', 'yaman24.wav', 'yaman25.wav', 'yaman26.wav', 'yaman27.wav']}\n"
     ]
    }
   ],
   "source": [
    "mp3_filedir =  \"data/raaga/\"\n",
    "wav_filedir = \"data/wav_raaga/\"\n",
    "files_mp3 = read_files(mp3_filedir, format='mp3')\n",
    "\n",
    "raagas = excract_the_file_name(files_mp3)\n",
    "\n",
    "os.makedirs(wav_filedir, exist_ok=True)\n",
    "for raaga, files in raagas.items():\n",
    "    for file in files:\n",
    "        y, sr = librosa.load(mp3_filedir + file)\n",
    "        sound = AudioSegment.from_mp3(mp3_filedir+ file)\n",
    "        sound.export(wav_filedir + file.replace(\".mp3\", \".wav\"), format=\"wav\")\n",
    "        \n",
    "print(\"done\")\n",
    "\n",
    "raagas = excract_the_file_name(read_files(wav_filedir, format='wav'))\n",
    "print(raagas)"
   ]
  },
  {
   "cell_type": "code",
   "execution_count": 48,
   "metadata": {},
   "outputs": [],
   "source": [
    "def splitter(audio_file, sr, category, index):\n",
    "    duration = 20\n",
    "    samples_per_track = duration * sr\n",
    "    for i in range(0, len(audio_file), samples_per_track):\n",
    "        if len(audio_file[i:i+samples_per_track]) == samples_per_track:\n",
    "            sf.write(f\"raaga/{category}/{category}_{index}.wav\", audio_file[i:i+samples_per_track], sr)\n",
    "            index += 1\n",
    "    return index\n",
    "    \n",
    "\n",
    "for key in raagas.keys():\n",
    "    os.makedirs(f\"raaga/{key}\")\n",
    "    i = 0\n",
    "    for file in raagas[key]:\n",
    "        librosa_audio, librosa_sample_rate = librosa.load(wav_filedir+file)\n",
    "        i = splitter(librosa_audio, librosa_sample_rate, key, i)"
   ]
  },
  {
   "cell_type": "markdown",
   "metadata": {},
   "source": [
    "# preprocessing of training data"
   ]
  },
  {
   "cell_type": "code",
   "execution_count": 53,
   "metadata": {},
   "outputs": [],
   "source": [
    "def features_extractor(audio_path):\n",
    "    audio, sample_rate = librosa.load(audio_path, res_type='scipy')\n",
    "    mfccs_features = librosa.feature.mfcc(y=audio, sr=sample_rate, n_mfcc=40)\n",
    "    mfccs_scaled_features = np.mean(mfccs_features.T,axis=0)\n",
    "\n",
    "    return mfccs_scaled_features"
   ]
  },
  {
   "cell_type": "code",
   "execution_count": 54,
   "metadata": {},
   "outputs": [],
   "source": [
    "data = []\n",
    "l = [\"raaga/\"+l for l in os.listdir(\"raaga\")]\n",
    "\n",
    "for filepath in l:\n",
    "    for wav_files in os.listdir(filepath):\n",
    "        if wav_files.endswith(\".wav\"):\n",
    "            audio_path = os.path.join(filepath, wav_files)\n",
    "            mfccs = features_extractor(audio_path)\n",
    "            if mfccs is not None:\n",
    "                class_label = wav_files.split('.')[0]\n",
    "                data.append([mfccs, class_label])"
   ]
  },
  {
   "cell_type": "code",
   "execution_count": 70,
   "metadata": {},
   "outputs": [],
   "source": [
    "df = pd.DataFrame(data, columns=['the extracted feature', 'class'])"
   ]
  },
  {
   "cell_type": "code",
   "execution_count": 71,
   "metadata": {},
   "outputs": [
    {
     "data": {
      "text/html": [
       "<div>\n",
       "<style scoped>\n",
       "    .dataframe tbody tr th:only-of-type {\n",
       "        vertical-align: middle;\n",
       "    }\n",
       "\n",
       "    .dataframe tbody tr th {\n",
       "        vertical-align: top;\n",
       "    }\n",
       "\n",
       "    .dataframe thead th {\n",
       "        text-align: right;\n",
       "    }\n",
       "</style>\n",
       "<table border=\"1\" class=\"dataframe\">\n",
       "  <thead>\n",
       "    <tr style=\"text-align: right;\">\n",
       "      <th></th>\n",
       "      <th>the extracted feature</th>\n",
       "      <th>class</th>\n",
       "    </tr>\n",
       "  </thead>\n",
       "  <tbody>\n",
       "    <tr>\n",
       "      <th>0</th>\n",
       "      <td>[-294.72336, 66.38028, -4.563169, 28.187496, -...</td>\n",
       "      <td>darbari_4</td>\n",
       "    </tr>\n",
       "    <tr>\n",
       "      <th>1</th>\n",
       "      <td>[-296.6297, 65.154724, -7.1088257, 27.06044, -...</td>\n",
       "      <td>darbari_0</td>\n",
       "    </tr>\n",
       "    <tr>\n",
       "      <th>2</th>\n",
       "      <td>[-290.2766, 67.15734, -6.7709665, 25.243633, -...</td>\n",
       "      <td>darbari_1</td>\n",
       "    </tr>\n",
       "    <tr>\n",
       "      <th>3</th>\n",
       "      <td>[-292.5677, 64.556, -4.9036336, 28.469217, -8....</td>\n",
       "      <td>darbari_3</td>\n",
       "    </tr>\n",
       "    <tr>\n",
       "      <th>4</th>\n",
       "      <td>[-299.14185, 66.71693, -2.1876426, 29.160795, ...</td>\n",
       "      <td>darbari_2</td>\n",
       "    </tr>\n",
       "    <tr>\n",
       "      <th>...</th>\n",
       "      <td>...</td>\n",
       "      <td>...</td>\n",
       "    </tr>\n",
       "    <tr>\n",
       "      <th>582</th>\n",
       "      <td>[-294.55405, 64.03945, -6.8834014, 36.657455, ...</td>\n",
       "      <td>asavari_59</td>\n",
       "    </tr>\n",
       "    <tr>\n",
       "      <th>583</th>\n",
       "      <td>[-322.85086, 69.57714, -2.2130072, 38.44013, -...</td>\n",
       "      <td>asavari_73</td>\n",
       "    </tr>\n",
       "    <tr>\n",
       "      <th>584</th>\n",
       "      <td>[-332.06735, 68.83567, -3.1626728, 32.966625, ...</td>\n",
       "      <td>asavari_67</td>\n",
       "    </tr>\n",
       "    <tr>\n",
       "      <th>585</th>\n",
       "      <td>[-319.1917, 74.266655, -3.88584, 29.038456, -4...</td>\n",
       "      <td>asavari_66</td>\n",
       "    </tr>\n",
       "    <tr>\n",
       "      <th>586</th>\n",
       "      <td>[-325.65305, 70.82451, -8.073104, 30.55529, -6...</td>\n",
       "      <td>asavari_72</td>\n",
       "    </tr>\n",
       "  </tbody>\n",
       "</table>\n",
       "<p>587 rows × 2 columns</p>\n",
       "</div>"
      ],
      "text/plain": [
       "                                 the extracted feature       class\n",
       "0    [-294.72336, 66.38028, -4.563169, 28.187496, -...   darbari_4\n",
       "1    [-296.6297, 65.154724, -7.1088257, 27.06044, -...   darbari_0\n",
       "2    [-290.2766, 67.15734, -6.7709665, 25.243633, -...   darbari_1\n",
       "3    [-292.5677, 64.556, -4.9036336, 28.469217, -8....   darbari_3\n",
       "4    [-299.14185, 66.71693, -2.1876426, 29.160795, ...   darbari_2\n",
       "..                                                 ...         ...\n",
       "582  [-294.55405, 64.03945, -6.8834014, 36.657455, ...  asavari_59\n",
       "583  [-322.85086, 69.57714, -2.2130072, 38.44013, -...  asavari_73\n",
       "584  [-332.06735, 68.83567, -3.1626728, 32.966625, ...  asavari_67\n",
       "585  [-319.1917, 74.266655, -3.88584, 29.038456, -4...  asavari_66\n",
       "586  [-325.65305, 70.82451, -8.073104, 30.55529, -6...  asavari_72\n",
       "\n",
       "[587 rows x 2 columns]"
      ]
     },
     "execution_count": 71,
     "metadata": {},
     "output_type": "execute_result"
    }
   ],
   "source": [
    "df"
   ]
  },
  {
   "cell_type": "code",
   "execution_count": 72,
   "metadata": {},
   "outputs": [],
   "source": [
    "# Function to truncate numeric characters from class labels\n",
    "def truncate_numbers(class_label):\n",
    "    return re.findall(r\"^[a-z]+\", class_label)[0]\n",
    "\n",
    "# Applying the function to truncate numbers from class labels\n",
    "df['class'] = df['class'].apply(truncate_numbers)"
   ]
  },
  {
   "cell_type": "code",
   "execution_count": 73,
   "metadata": {},
   "outputs": [
    {
     "data": {
      "text/html": [
       "<div>\n",
       "<style scoped>\n",
       "    .dataframe tbody tr th:only-of-type {\n",
       "        vertical-align: middle;\n",
       "    }\n",
       "\n",
       "    .dataframe tbody tr th {\n",
       "        vertical-align: top;\n",
       "    }\n",
       "\n",
       "    .dataframe thead th {\n",
       "        text-align: right;\n",
       "    }\n",
       "</style>\n",
       "<table border=\"1\" class=\"dataframe\">\n",
       "  <thead>\n",
       "    <tr style=\"text-align: right;\">\n",
       "      <th></th>\n",
       "      <th>the extracted feature</th>\n",
       "      <th>class</th>\n",
       "    </tr>\n",
       "  </thead>\n",
       "  <tbody>\n",
       "    <tr>\n",
       "      <th>0</th>\n",
       "      <td>[-294.72336, 66.38028, -4.563169, 28.187496, -...</td>\n",
       "      <td>darbari</td>\n",
       "    </tr>\n",
       "    <tr>\n",
       "      <th>1</th>\n",
       "      <td>[-296.6297, 65.154724, -7.1088257, 27.06044, -...</td>\n",
       "      <td>darbari</td>\n",
       "    </tr>\n",
       "    <tr>\n",
       "      <th>2</th>\n",
       "      <td>[-290.2766, 67.15734, -6.7709665, 25.243633, -...</td>\n",
       "      <td>darbari</td>\n",
       "    </tr>\n",
       "    <tr>\n",
       "      <th>3</th>\n",
       "      <td>[-292.5677, 64.556, -4.9036336, 28.469217, -8....</td>\n",
       "      <td>darbari</td>\n",
       "    </tr>\n",
       "    <tr>\n",
       "      <th>4</th>\n",
       "      <td>[-299.14185, 66.71693, -2.1876426, 29.160795, ...</td>\n",
       "      <td>darbari</td>\n",
       "    </tr>\n",
       "    <tr>\n",
       "      <th>...</th>\n",
       "      <td>...</td>\n",
       "      <td>...</td>\n",
       "    </tr>\n",
       "    <tr>\n",
       "      <th>582</th>\n",
       "      <td>[-294.55405, 64.03945, -6.8834014, 36.657455, ...</td>\n",
       "      <td>asavari</td>\n",
       "    </tr>\n",
       "    <tr>\n",
       "      <th>583</th>\n",
       "      <td>[-322.85086, 69.57714, -2.2130072, 38.44013, -...</td>\n",
       "      <td>asavari</td>\n",
       "    </tr>\n",
       "    <tr>\n",
       "      <th>584</th>\n",
       "      <td>[-332.06735, 68.83567, -3.1626728, 32.966625, ...</td>\n",
       "      <td>asavari</td>\n",
       "    </tr>\n",
       "    <tr>\n",
       "      <th>585</th>\n",
       "      <td>[-319.1917, 74.266655, -3.88584, 29.038456, -4...</td>\n",
       "      <td>asavari</td>\n",
       "    </tr>\n",
       "    <tr>\n",
       "      <th>586</th>\n",
       "      <td>[-325.65305, 70.82451, -8.073104, 30.55529, -6...</td>\n",
       "      <td>asavari</td>\n",
       "    </tr>\n",
       "  </tbody>\n",
       "</table>\n",
       "<p>587 rows × 2 columns</p>\n",
       "</div>"
      ],
      "text/plain": [
       "                                 the extracted feature    class\n",
       "0    [-294.72336, 66.38028, -4.563169, 28.187496, -...  darbari\n",
       "1    [-296.6297, 65.154724, -7.1088257, 27.06044, -...  darbari\n",
       "2    [-290.2766, 67.15734, -6.7709665, 25.243633, -...  darbari\n",
       "3    [-292.5677, 64.556, -4.9036336, 28.469217, -8....  darbari\n",
       "4    [-299.14185, 66.71693, -2.1876426, 29.160795, ...  darbari\n",
       "..                                                 ...      ...\n",
       "582  [-294.55405, 64.03945, -6.8834014, 36.657455, ...  asavari\n",
       "583  [-322.85086, 69.57714, -2.2130072, 38.44013, -...  asavari\n",
       "584  [-332.06735, 68.83567, -3.1626728, 32.966625, ...  asavari\n",
       "585  [-319.1917, 74.266655, -3.88584, 29.038456, -4...  asavari\n",
       "586  [-325.65305, 70.82451, -8.073104, 30.55529, -6...  asavari\n",
       "\n",
       "[587 rows x 2 columns]"
      ]
     },
     "execution_count": 73,
     "metadata": {},
     "output_type": "execute_result"
    }
   ],
   "source": [
    "df"
   ]
  },
  {
   "cell_type": "code",
   "execution_count": 93,
   "metadata": {},
   "outputs": [],
   "source": [
    "df['the extracted feature'] = df['the extracted feature'].to_list()"
   ]
  },
  {
   "cell_type": "code",
   "execution_count": 94,
   "metadata": {},
   "outputs": [
    {
     "data": {
      "text/plain": [
       "(587, 40)"
      ]
     },
     "execution_count": 94,
     "metadata": {},
     "output_type": "execute_result"
    }
   ],
   "source": [
    "np.array(df['the extracted feature'].to_list()).shape"
   ]
  },
  {
   "cell_type": "code",
   "execution_count": 95,
   "metadata": {},
   "outputs": [
    {
     "data": {
      "text/plain": [
       "(587,)"
      ]
     },
     "execution_count": 95,
     "metadata": {},
     "output_type": "execute_result"
    }
   ],
   "source": [
    "df['the extracted feature'].shape"
   ]
  },
  {
   "cell_type": "code",
   "execution_count": 96,
   "metadata": {},
   "outputs": [],
   "source": [
    "df.to_csv(\"data.csv\", index=False)"
   ]
  },
  {
   "cell_type": "code",
   "execution_count": null,
   "metadata": {},
   "outputs": [],
   "source": []
  }
 ],
 "metadata": {
  "kernelspec": {
   "display_name": "base",
   "language": "python",
   "name": "python3"
  },
  "language_info": {
   "codemirror_mode": {
    "name": "ipython",
    "version": 3
   },
   "file_extension": ".py",
   "mimetype": "text/x-python",
   "name": "python",
   "nbconvert_exporter": "python",
   "pygments_lexer": "ipython3",
   "version": "3.10.8"
  }
 },
 "nbformat": 4,
 "nbformat_minor": 2
}
